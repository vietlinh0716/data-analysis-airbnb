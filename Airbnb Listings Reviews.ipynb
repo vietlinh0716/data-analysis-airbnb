{
 "cells": [
  {
   "cell_type": "markdown",
   "id": "5ee7adbf",
   "metadata": {},
   "source": [
    "# AirBnB Listings and Reviews"
   ]
  },
  {
   "cell_type": "markdown",
   "id": "11881ebf",
   "metadata": {},
   "source": [
    "## Analysis: Can you spot any major differences in the Airbnb market between cities?\n",
    "\n",
    "Data for this workbook can be found on [HERE](https://www.kaggle.com/datasets/mysarahmadbhat/airbnb-listings-reviews)"
   ]
  },
  {
   "cell_type": "markdown",
   "id": "c6be8d7f",
   "metadata": {},
   "source": [
    "### Data Cleaning and Optimization"
   ]
  },
  {
   "cell_type": "code",
   "execution_count": 94,
   "id": "2fbcafea",
   "metadata": {},
   "outputs": [],
   "source": [
    "import pandas as pd\n",
    "import seaborn as sns\n",
    "import matplotlib.pyplot as plt\n",
    "%matplotlib inline\n",
    "import warnings\n",
    "warnings.filterwarnings(\"ignore\")"
   ]
  },
  {
   "cell_type": "code",
   "execution_count": 75,
   "id": "e11f43b2",
   "metadata": {},
   "outputs": [],
   "source": [
    "listings = pd.read_csv('Listings.csv', encoding='latin1')\n",
    "reviews = pd.read_csv('Reviews.csv')"
   ]
  },
  {
   "cell_type": "code",
   "execution_count": 76,
   "id": "22cda177",
   "metadata": {},
   "outputs": [
    {
     "data": {
      "text/plain": [
       "0         2\n",
       "1         2\n",
       "2         2\n",
       "3         2\n",
       "4         2\n",
       "         ..\n",
       "279707    2\n",
       "279708    2\n",
       "279709    2\n",
       "279710    2\n",
       "279711    2\n",
       "Name: accommodates, Length: 279712, dtype: int64"
      ]
     },
     "execution_count": 76,
     "metadata": {},
     "output_type": "execute_result"
    }
   ],
   "source": [
    "listings['accommodates']"
   ]
  },
  {
   "cell_type": "code",
   "execution_count": 8,
   "id": "95eb243e",
   "metadata": {},
   "outputs": [
    {
     "data": {
      "text/html": [
       "<div>\n",
       "<style scoped>\n",
       "    .dataframe tbody tr th:only-of-type {\n",
       "        vertical-align: middle;\n",
       "    }\n",
       "\n",
       "    .dataframe tbody tr th {\n",
       "        vertical-align: top;\n",
       "    }\n",
       "\n",
       "    .dataframe thead th {\n",
       "        text-align: right;\n",
       "    }\n",
       "</style>\n",
       "<table border=\"1\" class=\"dataframe\">\n",
       "  <thead>\n",
       "    <tr style=\"text-align: right;\">\n",
       "      <th></th>\n",
       "      <th>listing_id</th>\n",
       "      <th>review_id</th>\n",
       "      <th>date</th>\n",
       "      <th>reviewer_id</th>\n",
       "    </tr>\n",
       "  </thead>\n",
       "  <tbody>\n",
       "    <tr>\n",
       "      <th>0</th>\n",
       "      <td>11798</td>\n",
       "      <td>330265172</td>\n",
       "      <td>2018-09-30</td>\n",
       "      <td>11863072</td>\n",
       "    </tr>\n",
       "    <tr>\n",
       "      <th>1</th>\n",
       "      <td>15383</td>\n",
       "      <td>330103585</td>\n",
       "      <td>2018-09-30</td>\n",
       "      <td>39147453</td>\n",
       "    </tr>\n",
       "    <tr>\n",
       "      <th>2</th>\n",
       "      <td>16455</td>\n",
       "      <td>329985788</td>\n",
       "      <td>2018-09-30</td>\n",
       "      <td>1125378</td>\n",
       "    </tr>\n",
       "    <tr>\n",
       "      <th>3</th>\n",
       "      <td>17919</td>\n",
       "      <td>330016899</td>\n",
       "      <td>2018-09-30</td>\n",
       "      <td>172717984</td>\n",
       "    </tr>\n",
       "    <tr>\n",
       "      <th>4</th>\n",
       "      <td>26827</td>\n",
       "      <td>329995638</td>\n",
       "      <td>2018-09-30</td>\n",
       "      <td>17542859</td>\n",
       "    </tr>\n",
       "  </tbody>\n",
       "</table>\n",
       "</div>"
      ],
      "text/plain": [
       "   listing_id  review_id        date  reviewer_id\n",
       "0       11798  330265172  2018-09-30     11863072\n",
       "1       15383  330103585  2018-09-30     39147453\n",
       "2       16455  329985788  2018-09-30      1125378\n",
       "3       17919  330016899  2018-09-30    172717984\n",
       "4       26827  329995638  2018-09-30     17542859"
      ]
     },
     "execution_count": 8,
     "metadata": {},
     "output_type": "execute_result"
    }
   ],
   "source": [
    "reviews.head()"
   ]
  },
  {
   "cell_type": "code",
   "execution_count": 30,
   "id": "43011a06",
   "metadata": {},
   "outputs": [],
   "source": [
    "def val_to_bool(val):\n",
    "    if val == 't':\n",
    "        return True\n",
    "    elif val == 'f':\n",
    "        return False\n",
    "    else: return val"
   ]
  },
  {
   "cell_type": "code",
   "execution_count": 77,
   "id": "4df6ec8b",
   "metadata": {},
   "outputs": [],
   "source": [
    "listings['host_is_superhost'] = listings['host_is_superhost'].apply(val_to_bool).astype('bool')\n",
    "listings['host_has_profile_pic'] = listings['host_has_profile_pic'].apply(val_to_bool).astype('bool')\n",
    "listings['host_identity_verified'] = listings['host_identity_verified'].apply(val_to_bool).astype('bool')\n",
    "listings['instant_bookable'] = listings['instant_bookable'].apply(val_to_bool).astype('bool')"
   ]
  },
  {
   "cell_type": "code",
   "execution_count": 78,
   "id": "d3ff3090",
   "metadata": {},
   "outputs": [],
   "source": [
    "listings[['neighbourhood',\n",
    "       'district', 'city','property_type','room_type']] = listings[['neighbourhood',\n",
    "       'district', 'city','property_type','room_type']].astype('category')"
   ]
  },
  {
   "cell_type": "code",
   "execution_count": 81,
   "id": "f2a52077",
   "metadata": {},
   "outputs": [
    {
     "name": "stdout",
     "output_type": "stream",
     "text": [
      "<class 'pandas.core.frame.DataFrame'>\n",
      "RangeIndex: 279712 entries, 0 to 279711\n",
      "Data columns (total 33 columns):\n",
      " #   Column                       Non-Null Count   Dtype   \n",
      "---  ------                       --------------   -----   \n",
      " 0   listing_id                   279712 non-null  int64   \n",
      " 1   name                         279539 non-null  object  \n",
      " 2   host_id                      279712 non-null  int64   \n",
      " 3   host_since                   279547 non-null  object  \n",
      " 4   host_location                278872 non-null  object  \n",
      " 5   host_response_time           150930 non-null  object  \n",
      " 6   host_response_rate           150930 non-null  float64 \n",
      " 7   host_acceptance_rate         166625 non-null  float64 \n",
      " 8   host_is_superhost            279712 non-null  bool    \n",
      " 9   host_total_listings_count    279547 non-null  float64 \n",
      " 10  host_has_profile_pic         279712 non-null  bool    \n",
      " 11  host_identity_verified       279712 non-null  bool    \n",
      " 12  neighbourhood                279712 non-null  category\n",
      " 13  district                     37012 non-null   category\n",
      " 14  city                         279712 non-null  category\n",
      " 15  latitude                     279712 non-null  float64 \n",
      " 16  longitude                    279712 non-null  float64 \n",
      " 17  property_type                279712 non-null  category\n",
      " 18  room_type                    279712 non-null  category\n",
      " 19  accommodates                 279712 non-null  int64   \n",
      " 20  bedrooms                     250277 non-null  float64 \n",
      " 21  amenities                    279712 non-null  object  \n",
      " 22  price                        279712 non-null  int64   \n",
      " 23  minimum_nights               279712 non-null  int64   \n",
      " 24  maximum_nights               279712 non-null  int64   \n",
      " 25  review_scores_rating         188307 non-null  float64 \n",
      " 26  review_scores_accuracy       187999 non-null  float64 \n",
      " 27  review_scores_cleanliness    188047 non-null  float64 \n",
      " 28  review_scores_checkin        187941 non-null  float64 \n",
      " 29  review_scores_communication  188025 non-null  float64 \n",
      " 30  review_scores_location       187937 non-null  float64 \n",
      " 31  review_scores_value          187927 non-null  float64 \n",
      " 32  instant_bookable             279712 non-null  bool    \n",
      "dtypes: bool(4), category(5), float64(13), int64(6), object(5)\n",
      "memory usage: 54.2+ MB\n"
     ]
    }
   ],
   "source": [
    "listings.info()"
   ]
  },
  {
   "cell_type": "code",
   "execution_count": 82,
   "id": "77016240",
   "metadata": {},
   "outputs": [
    {
     "data": {
      "text/html": [
       "<div>\n",
       "<style scoped>\n",
       "    .dataframe tbody tr th:only-of-type {\n",
       "        vertical-align: middle;\n",
       "    }\n",
       "\n",
       "    .dataframe tbody tr th {\n",
       "        vertical-align: top;\n",
       "    }\n",
       "\n",
       "    .dataframe thead th {\n",
       "        text-align: right;\n",
       "    }\n",
       "</style>\n",
       "<table border=\"1\" class=\"dataframe\">\n",
       "  <thead>\n",
       "    <tr style=\"text-align: right;\">\n",
       "      <th></th>\n",
       "      <th>listing_id</th>\n",
       "      <th>name</th>\n",
       "      <th>host_id</th>\n",
       "      <th>host_since</th>\n",
       "      <th>host_location</th>\n",
       "      <th>host_response_time</th>\n",
       "      <th>host_response_rate</th>\n",
       "      <th>host_acceptance_rate</th>\n",
       "      <th>host_is_superhost</th>\n",
       "      <th>host_total_listings_count</th>\n",
       "      <th>...</th>\n",
       "      <th>review_scores_accuracy</th>\n",
       "      <th>review_scores_cleanliness</th>\n",
       "      <th>review_scores_checkin</th>\n",
       "      <th>review_scores_communication</th>\n",
       "      <th>review_scores_location</th>\n",
       "      <th>review_scores_value</th>\n",
       "      <th>instant_bookable</th>\n",
       "      <th>review_id</th>\n",
       "      <th>date</th>\n",
       "      <th>reviewer_id</th>\n",
       "    </tr>\n",
       "  </thead>\n",
       "  <tbody>\n",
       "    <tr>\n",
       "      <th>0</th>\n",
       "      <td>281420</td>\n",
       "      <td>Beautiful Flat in le Village Montmartre, Paris</td>\n",
       "      <td>1466919</td>\n",
       "      <td>2011-12-03</td>\n",
       "      <td>Paris, Ile-de-France, France</td>\n",
       "      <td>NaN</td>\n",
       "      <td>NaN</td>\n",
       "      <td>NaN</td>\n",
       "      <td>False</td>\n",
       "      <td>1.0</td>\n",
       "      <td>...</td>\n",
       "      <td>10.0</td>\n",
       "      <td>10.0</td>\n",
       "      <td>10.0</td>\n",
       "      <td>10.0</td>\n",
       "      <td>10.0</td>\n",
       "      <td>10.0</td>\n",
       "      <td>False</td>\n",
       "      <td>173279221</td>\n",
       "      <td>2017-07-23</td>\n",
       "      <td>3501898</td>\n",
       "    </tr>\n",
       "    <tr>\n",
       "      <th>1</th>\n",
       "      <td>281420</td>\n",
       "      <td>Beautiful Flat in le Village Montmartre, Paris</td>\n",
       "      <td>1466919</td>\n",
       "      <td>2011-12-03</td>\n",
       "      <td>Paris, Ile-de-France, France</td>\n",
       "      <td>NaN</td>\n",
       "      <td>NaN</td>\n",
       "      <td>NaN</td>\n",
       "      <td>False</td>\n",
       "      <td>1.0</td>\n",
       "      <td>...</td>\n",
       "      <td>10.0</td>\n",
       "      <td>10.0</td>\n",
       "      <td>10.0</td>\n",
       "      <td>10.0</td>\n",
       "      <td>10.0</td>\n",
       "      <td>10.0</td>\n",
       "      <td>False</td>\n",
       "      <td>172657766</td>\n",
       "      <td>2017-07-21</td>\n",
       "      <td>74346703</td>\n",
       "    </tr>\n",
       "    <tr>\n",
       "      <th>2</th>\n",
       "      <td>3705183</td>\n",
       "      <td>39 mÃÂ² Paris (Sacre CÃ",
       "âur)</td>\n",
       "      <td>10328771</td>\n",
       "      <td>2013-11-29</td>\n",
       "      <td>Paris, Ile-de-France, France</td>\n",
       "      <td>NaN</td>\n",
       "      <td>NaN</td>\n",
       "      <td>NaN</td>\n",
       "      <td>False</td>\n",
       "      <td>1.0</td>\n",
       "      <td>...</td>\n",
       "      <td>10.0</td>\n",
       "      <td>10.0</td>\n",
       "      <td>10.0</td>\n",
       "      <td>10.0</td>\n",
       "      <td>10.0</td>\n",
       "      <td>10.0</td>\n",
       "      <td>False</td>\n",
       "      <td>20792760</td>\n",
       "      <td>2014-10-05</td>\n",
       "      <td>21583508</td>\n",
       "    </tr>\n",
       "    <tr>\n",
       "      <th>3</th>\n",
       "      <td>3705183</td>\n",
       "      <td>39 mÃÂ² Paris (Sacre CÃ",
       "âur)</td>\n",
       "      <td>10328771</td>\n",
       "      <td>2013-11-29</td>\n",
       "      <td>Paris, Ile-de-France, France</td>\n",
       "      <td>NaN</td>\n",
       "      <td>NaN</td>\n",
       "      <td>NaN</td>\n",
       "      <td>False</td>\n",
       "      <td>1.0</td>\n",
       "      <td>...</td>\n",
       "      <td>10.0</td>\n",
       "      <td>10.0</td>\n",
       "      <td>10.0</td>\n",
       "      <td>10.0</td>\n",
       "      <td>10.0</td>\n",
       "      <td>10.0</td>\n",
       "      <td>False</td>\n",
       "      <td>32282670</td>\n",
       "      <td>2015-05-16</td>\n",
       "      <td>32285553</td>\n",
       "    </tr>\n",
       "    <tr>\n",
       "      <th>4</th>\n",
       "      <td>3705183</td>\n",
       "      <td>39 mÃÂ² Paris (Sacre CÃ",
       "âur)</td>\n",
       "      <td>10328771</td>\n",
       "      <td>2013-11-29</td>\n",
       "      <td>Paris, Ile-de-France, France</td>\n",
       "      <td>NaN</td>\n",
       "      <td>NaN</td>\n",
       "      <td>NaN</td>\n",
       "      <td>False</td>\n",
       "      <td>1.0</td>\n",
       "      <td>...</td>\n",
       "      <td>10.0</td>\n",
       "      <td>10.0</td>\n",
       "      <td>10.0</td>\n",
       "      <td>10.0</td>\n",
       "      <td>10.0</td>\n",
       "      <td>10.0</td>\n",
       "      <td>False</td>\n",
       "      <td>45645391</td>\n",
       "      <td>2015-09-04</td>\n",
       "      <td>34310199</td>\n",
       "    </tr>\n",
       "  </tbody>\n",
       "</table>\n",
       "<p>5 rows × 36 columns</p>\n",
       "</div>"
      ],
      "text/plain": [
       "   listing_id                                            name   host_id  \\\n",
       "0      281420  Beautiful Flat in le Village Montmartre, Paris   1466919   \n",
       "1      281420  Beautiful Flat in le Village Montmartre, Paris   1466919   \n",
       "2     3705183                 39 mÃÂ² Paris (Sacre CÃ\n",
       "âur)  10328771   \n",
       "3     3705183                 39 mÃÂ² Paris (Sacre CÃ\n",
       "âur)  10328771   \n",
       "4     3705183                 39 mÃÂ² Paris (Sacre CÃ\n",
       "âur)  10328771   \n",
       "\n",
       "   host_since                 host_location host_response_time  \\\n",
       "0  2011-12-03  Paris, Ile-de-France, France                NaN   \n",
       "1  2011-12-03  Paris, Ile-de-France, France                NaN   \n",
       "2  2013-11-29  Paris, Ile-de-France, France                NaN   \n",
       "3  2013-11-29  Paris, Ile-de-France, France                NaN   \n",
       "4  2013-11-29  Paris, Ile-de-France, France                NaN   \n",
       "\n",
       "   host_response_rate  host_acceptance_rate  host_is_superhost  \\\n",
       "0                 NaN                   NaN              False   \n",
       "1                 NaN                   NaN              False   \n",
       "2                 NaN                   NaN              False   \n",
       "3                 NaN                   NaN              False   \n",
       "4                 NaN                   NaN              False   \n",
       "\n",
       "   host_total_listings_count  ...  review_scores_accuracy  \\\n",
       "0                        1.0  ...                    10.0   \n",
       "1                        1.0  ...                    10.0   \n",
       "2                        1.0  ...                    10.0   \n",
       "3                        1.0  ...                    10.0   \n",
       "4                        1.0  ...                    10.0   \n",
       "\n",
       "   review_scores_cleanliness review_scores_checkin  \\\n",
       "0                       10.0                  10.0   \n",
       "1                       10.0                  10.0   \n",
       "2                       10.0                  10.0   \n",
       "3                       10.0                  10.0   \n",
       "4                       10.0                  10.0   \n",
       "\n",
       "  review_scores_communication review_scores_location  review_scores_value  \\\n",
       "0                        10.0                   10.0                 10.0   \n",
       "1                        10.0                   10.0                 10.0   \n",
       "2                        10.0                   10.0                 10.0   \n",
       "3                        10.0                   10.0                 10.0   \n",
       "4                        10.0                   10.0                 10.0   \n",
       "\n",
       "   instant_bookable  review_id        date  reviewer_id  \n",
       "0             False  173279221  2017-07-23      3501898  \n",
       "1             False  172657766  2017-07-21     74346703  \n",
       "2             False   20792760  2014-10-05     21583508  \n",
       "3             False   32282670  2015-05-16     32285553  \n",
       "4             False   45645391  2015-09-04     34310199  \n",
       "\n",
       "[5 rows x 36 columns]"
      ]
     },
     "execution_count": 82,
     "metadata": {},
     "output_type": "execute_result"
    }
   ],
   "source": [
    "#merge listings and reviews data frame\n",
    "df = pd.merge(listings, reviews, on = \"listing_id\")\n",
    "df.head()"
   ]
  },
  {
   "cell_type": "code",
   "execution_count": 83,
   "id": "4723a943",
   "metadata": {},
   "outputs": [
    {
     "data": {
      "text/plain": [
       "541413"
      ]
     },
     "execution_count": 83,
     "metadata": {},
     "output_type": "execute_result"
    }
   ],
   "source": [
    "df['bedrooms'].isna().sum()"
   ]
  },
  {
   "cell_type": "code",
   "execution_count": 84,
   "id": "58f4e3f4",
   "metadata": {},
   "outputs": [],
   "source": [
    "df['bedrooms'] = df['bedrooms'].fillna(1)"
   ]
  },
  {
   "cell_type": "code",
   "execution_count": 85,
   "id": "1fb9a043",
   "metadata": {},
   "outputs": [
    {
     "data": {
      "text/plain": [
       "0"
      ]
     },
     "execution_count": 85,
     "metadata": {},
     "output_type": "execute_result"
    }
   ],
   "source": [
    "df['bedrooms'].isna().sum()"
   ]
  },
  {
   "cell_type": "markdown",
   "id": "b74fc990",
   "metadata": {},
   "source": [
    "### Data Analysis"
   ]
  },
  {
   "cell_type": "markdown",
   "id": "c9b8b03a",
   "metadata": {},
   "source": [
    "#### Check the differences based on cleanliness"
   ]
  },
  {
   "cell_type": "code",
   "execution_count": 90,
   "id": "9761c69e",
   "metadata": {},
   "outputs": [
    {
     "data": {
      "text/html": [
       "<div>\n",
       "<style scoped>\n",
       "    .dataframe tbody tr th:only-of-type {\n",
       "        vertical-align: middle;\n",
       "    }\n",
       "\n",
       "    .dataframe tbody tr th {\n",
       "        vertical-align: top;\n",
       "    }\n",
       "\n",
       "    .dataframe thead th {\n",
       "        text-align: right;\n",
       "    }\n",
       "</style>\n",
       "<table border=\"1\" class=\"dataframe\">\n",
       "  <thead>\n",
       "    <tr style=\"text-align: right;\">\n",
       "      <th></th>\n",
       "      <th>city</th>\n",
       "      <th>review_scores_cleanliness</th>\n",
       "    </tr>\n",
       "  </thead>\n",
       "  <tbody>\n",
       "    <tr>\n",
       "      <th>1</th>\n",
       "      <td>Cape Town</td>\n",
       "      <td>9.716712</td>\n",
       "    </tr>\n",
       "    <tr>\n",
       "      <th>4</th>\n",
       "      <td>Mexico City</td>\n",
       "      <td>9.683151</td>\n",
       "    </tr>\n",
       "    <tr>\n",
       "      <th>8</th>\n",
       "      <td>Rome</td>\n",
       "      <td>9.583323</td>\n",
       "    </tr>\n",
       "    <tr>\n",
       "      <th>7</th>\n",
       "      <td>Rio de Janeiro</td>\n",
       "      <td>9.546794</td>\n",
       "    </tr>\n",
       "    <tr>\n",
       "      <th>0</th>\n",
       "      <td>Bangkok</td>\n",
       "      <td>9.538680</td>\n",
       "    </tr>\n",
       "    <tr>\n",
       "      <th>9</th>\n",
       "      <td>Sydney</td>\n",
       "      <td>9.523461</td>\n",
       "    </tr>\n",
       "    <tr>\n",
       "      <th>5</th>\n",
       "      <td>New York</td>\n",
       "      <td>9.465299</td>\n",
       "    </tr>\n",
       "    <tr>\n",
       "      <th>6</th>\n",
       "      <td>Paris</td>\n",
       "      <td>9.340597</td>\n",
       "    </tr>\n",
       "    <tr>\n",
       "      <th>3</th>\n",
       "      <td>Istanbul</td>\n",
       "      <td>9.323710</td>\n",
       "    </tr>\n",
       "    <tr>\n",
       "      <th>2</th>\n",
       "      <td>Hong Kong</td>\n",
       "      <td>9.255236</td>\n",
       "    </tr>\n",
       "  </tbody>\n",
       "</table>\n",
       "</div>"
      ],
      "text/plain": [
       "             city  review_scores_cleanliness\n",
       "1       Cape Town                   9.716712\n",
       "4     Mexico City                   9.683151\n",
       "8            Rome                   9.583323\n",
       "7  Rio de Janeiro                   9.546794\n",
       "0         Bangkok                   9.538680\n",
       "9          Sydney                   9.523461\n",
       "5        New York                   9.465299\n",
       "6           Paris                   9.340597\n",
       "3        Istanbul                   9.323710\n",
       "2       Hong Kong                   9.255236"
      ]
     },
     "execution_count": 90,
     "metadata": {},
     "output_type": "execute_result"
    }
   ],
   "source": [
    "clean =df.groupby('city',as_index = False)['review_scores_cleanliness'].mean().sort_values('review_scores_cleanliness',ascending=False)\n",
    "clean"
   ]
  },
  {
   "cell_type": "code",
   "execution_count": 95,
   "id": "afdfb1b3",
   "metadata": {},
   "outputs": [
    {
     "data": {
      "image/png": "[encoded data removed]",
      "text/plain": [
       "<Figure size 1400x700 with 1 Axes>"
      ]
     },
     "metadata": {},
     "output_type": "display_data"
    }
   ],
   "source": [
    "plt.figure(figsize=(14,7))\n",
    "ax1 = sns.barplot(x=clean['city'], y=clean['review_scores_cleanliness'], palette='Set3')\n",
    "plt.xlabel('City', fontsize=12)\n",
    "plt.ylabel('Clealiness', fontsize=12)\n",
    "plt.title('Cleanliness score in Different City', fontsize=14)\n",
    "plt.savefig('Clean_in_City')"
   ]
  },
  {
   "cell_type": "markdown",
   "id": "af364614",
   "metadata": {},
   "source": [
    "##### Conclusion: No major differences was found in the cleanliness score between the cities"
   ]
  },
  {
   "cell_type": "markdown",
   "id": "29979994",
   "metadata": {},
   "source": [
    "#### Check the differences based on number of bedrooms"
   ]
  },
  {
   "cell_type": "code",
   "execution_count": 97,
   "id": "b904d54e",
   "metadata": {},
   "outputs": [
    {
     "data": {
      "text/html": [
       "<div>\n",
       "<style scoped>\n",
       "    .dataframe tbody tr th:only-of-type {\n",
       "        vertical-align: middle;\n",
       "    }\n",
       "\n",
       "    .dataframe tbody tr th {\n",
       "        vertical-align: top;\n",
       "    }\n",
       "\n",
       "    .dataframe thead th {\n",
       "        text-align: right;\n",
       "    }\n",
       "</style>\n",
       "<table border=\"1\" class=\"dataframe\">\n",
       "  <thead>\n",
       "    <tr style=\"text-align: right;\">\n",
       "      <th></th>\n",
       "      <th>city</th>\n",
       "      <th>bedrooms</th>\n",
       "    </tr>\n",
       "  </thead>\n",
       "  <tbody>\n",
       "    <tr>\n",
       "      <th>1</th>\n",
       "      <td>Cape Town</td>\n",
       "      <td>1.661873</td>\n",
       "    </tr>\n",
       "    <tr>\n",
       "      <th>7</th>\n",
       "      <td>Rio de Janeiro</td>\n",
       "      <td>1.488867</td>\n",
       "    </tr>\n",
       "    <tr>\n",
       "      <th>4</th>\n",
       "      <td>Mexico City</td>\n",
       "      <td>1.487125</td>\n",
       "    </tr>\n",
       "    <tr>\n",
       "      <th>9</th>\n",
       "      <td>Sydney</td>\n",
       "      <td>1.476912</td>\n",
       "    </tr>\n",
       "    <tr>\n",
       "      <th>3</th>\n",
       "      <td>Istanbul</td>\n",
       "      <td>1.447877</td>\n",
       "    </tr>\n",
       "    <tr>\n",
       "      <th>8</th>\n",
       "      <td>Rome</td>\n",
       "      <td>1.443821</td>\n",
       "    </tr>\n",
       "    <tr>\n",
       "      <th>0</th>\n",
       "      <td>Bangkok</td>\n",
       "      <td>1.379374</td>\n",
       "    </tr>\n",
       "    <tr>\n",
       "      <th>6</th>\n",
       "      <td>Paris</td>\n",
       "      <td>1.314923</td>\n",
       "    </tr>\n",
       "    <tr>\n",
       "      <th>5</th>\n",
       "      <td>New York</td>\n",
       "      <td>1.291571</td>\n",
       "    </tr>\n",
       "    <tr>\n",
       "      <th>2</th>\n",
       "      <td>Hong Kong</td>\n",
       "      <td>1.274674</td>\n",
       "    </tr>\n",
       "  </tbody>\n",
       "</table>\n",
       "</div>"
      ],
      "text/plain": [
       "             city  bedrooms\n",
       "1       Cape Town  1.661873\n",
       "7  Rio de Janeiro  1.488867\n",
       "4     Mexico City  1.487125\n",
       "9          Sydney  1.476912\n",
       "3        Istanbul  1.447877\n",
       "8            Rome  1.443821\n",
       "0         Bangkok  1.379374\n",
       "6           Paris  1.314923\n",
       "5        New York  1.291571\n",
       "2       Hong Kong  1.274674"
      ]
     },
     "execution_count": 97,
     "metadata": {},
     "output_type": "execute_result"
    }
   ],
   "source": [
    "bedroom=df.groupby('city', as_index = False)['bedrooms'].mean().sort_values(by = 'bedrooms',ascending=False)\n",
    "bedroom"
   ]
  },
  {
   "cell_type": "code",
   "execution_count": 98,
   "id": "3c0a4b0a",
   "metadata": {},
   "outputs": [
    {
     "data": {
      "image/png": "[encoded data removed]",
      "text/plain": [
       "<Figure size 1400x700 with 1 Axes>"
      ]
     },
     "metadata": {},
     "output_type": "display_data"
    }
   ],
   "source": [
    "plt.figure(figsize=(14,7))\n",
    "ax2 = sns.barplot(x=bedroom['city'], y=bedroom['bedrooms'], palette='Set3')\n",
    "plt.xlabel('City', fontsize=12)\n",
    "plt.ylabel('Bedrooms', fontsize=12)\n",
    "plt.title('Avg # of bedrooms in each city', fontsize=14)\n",
    "plt.savefig('Bedrooms_in_City')"
   ]
  },
  {
   "cell_type": "markdown",
   "id": "14e7b8ed",
   "metadata": {},
   "source": [
    "##### Conclusion: No major differences was found in the number of bedrooms between the cities"
   ]
  },
  {
   "cell_type": "markdown",
   "id": "c90070f8",
   "metadata": {},
   "source": [
    "#### Check the differences based on being instant bookable"
   ]
  },
  {
   "cell_type": "code",
   "execution_count": 101,
   "id": "47a9576c",
   "metadata": {},
   "outputs": [
    {
     "data": {
      "text/html": [
       "<div>\n",
       "<style scoped>\n",
       "    .dataframe tbody tr th:only-of-type {\n",
       "        vertical-align: middle;\n",
       "    }\n",
       "\n",
       "    .dataframe tbody tr th {\n",
       "        vertical-align: top;\n",
       "    }\n",
       "\n",
       "    .dataframe thead th {\n",
       "        text-align: right;\n",
       "    }\n",
       "</style>\n",
       "<table border=\"1\" class=\"dataframe\">\n",
       "  <thead>\n",
       "    <tr style=\"text-align: right;\">\n",
       "      <th></th>\n",
       "      <th>city</th>\n",
       "      <th>instant_bookable</th>\n",
       "    </tr>\n",
       "  </thead>\n",
       "  <tbody>\n",
       "    <tr>\n",
       "      <th>6</th>\n",
       "      <td>Paris</td>\n",
       "      <td>1213727</td>\n",
       "    </tr>\n",
       "    <tr>\n",
       "      <th>8</th>\n",
       "      <td>Rome</td>\n",
       "      <td>1113360</td>\n",
       "    </tr>\n",
       "    <tr>\n",
       "      <th>5</th>\n",
       "      <td>New York</td>\n",
       "      <td>847727</td>\n",
       "    </tr>\n",
       "    <tr>\n",
       "      <th>9</th>\n",
       "      <td>Sydney</td>\n",
       "      <td>482552</td>\n",
       "    </tr>\n",
       "    <tr>\n",
       "      <th>4</th>\n",
       "      <td>Mexico City</td>\n",
       "      <td>477584</td>\n",
       "    </tr>\n",
       "    <tr>\n",
       "      <th>7</th>\n",
       "      <td>Rio de Janeiro</td>\n",
       "      <td>323274</td>\n",
       "    </tr>\n",
       "    <tr>\n",
       "      <th>1</th>\n",
       "      <td>Cape Town</td>\n",
       "      <td>302336</td>\n",
       "    </tr>\n",
       "    <tr>\n",
       "      <th>0</th>\n",
       "      <td>Bangkok</td>\n",
       "      <td>284342</td>\n",
       "    </tr>\n",
       "    <tr>\n",
       "      <th>3</th>\n",
       "      <td>Istanbul</td>\n",
       "      <td>194013</td>\n",
       "    </tr>\n",
       "    <tr>\n",
       "      <th>2</th>\n",
       "      <td>Hong Kong</td>\n",
       "      <td>134228</td>\n",
       "    </tr>\n",
       "  </tbody>\n",
       "</table>\n",
       "</div>"
      ],
      "text/plain": [
       "             city  instant_bookable\n",
       "6           Paris           1213727\n",
       "8            Rome           1113360\n",
       "5        New York            847727\n",
       "9          Sydney            482552\n",
       "4     Mexico City            477584\n",
       "7  Rio de Janeiro            323274\n",
       "1       Cape Town            302336\n",
       "0         Bangkok            284342\n",
       "3        Istanbul            194013\n",
       "2       Hong Kong            134228"
      ]
     },
     "execution_count": 101,
     "metadata": {},
     "output_type": "execute_result"
    }
   ],
   "source": [
    "bookable=df.groupby(\"city\", as_index = False)['instant_bookable'].count().sort_values(by = 'instant_bookable',ascending=False)\n",
    "bookable"
   ]
  },
  {
   "cell_type": "code",
   "execution_count": 102,
   "id": "edbf0d67",
   "metadata": {},
   "outputs": [
    {
     "data": {
      "image/png": "[encoded data removed]",
      "text/plain": [
       "<Figure size 1400x700 with 1 Axes>"
      ]
     },
     "metadata": {},
     "output_type": "display_data"
    }
   ],
   "source": [
    "plt.figure(figsize=(14,7))\n",
    "ax3 = sns.barplot(x=bookable['city'], y=bookable['instant_bookable'], palette='Set3')\n",
    "plt.xlabel('City', fontsize=12)\n",
    "plt.ylabel('No. Instant Bookable Place', fontsize=12)\n",
    "plt.title('No. Instant Bookable Place in Each City', fontsize=14)\n",
    "plt.savefig('instant_book_city')"
   ]
  },
  {
   "cell_type": "markdown",
   "id": "717e1732",
   "metadata": {},
   "source": [
    "Major differences in the Airbnb market between cities fount in instant bookable field. Paris and Rome are the two cities that has the most places that as enabled instant bookabled. "
   ]
  }
 ],
 "metadata": {
  "kernelspec": {
   "display_name": "Python 3 (ipykernel)",
   "language": "python",
   "name": "python3"
  },
  "language_info": {
   "codemirror_mode": {
    "name": "ipython",
    "version": 3
   },
   "file_extension": ".py",
   "mimetype": "text/x-python",
   "name": "python",
   "nbconvert_exporter": "python",
   "pygments_lexer": "ipython3",
   "version": "3.11.3"
  }
 },
 "nbformat": 4,
 "nbformat_minor": 5
}
